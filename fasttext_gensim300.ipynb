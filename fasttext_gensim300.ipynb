{
 "cells": [
  {
   "cell_type": "code",
   "execution_count": 1,
   "id": "189d2972",
   "metadata": {},
   "outputs": [],
   "source": [
    "import pandas as pd\n",
    "import multiprocessing\n",
    "import numpy as np\n",
    "import json\n",
    "import string\n",
    "import re\n",
    "from pprint import pprint\n",
    "import pickle\n",
    "import fasttext"
   ]
  },
  {
   "cell_type": "code",
   "execution_count": 2,
   "id": "0585fdf8",
   "metadata": {},
   "outputs": [
    {
     "data": {
      "text/plain": [
       "str"
      ]
     },
     "execution_count": 2,
     "metadata": {},
     "output_type": "execute_result"
    }
   ],
   "source": [
    "corpus = 'processed_data_text.txt'\n",
    "type(corpus)"
   ]
  },
  {
   "cell_type": "code",
   "execution_count": 3,
   "id": "877c3aaf",
   "metadata": {},
   "outputs": [
    {
     "data": {
      "text/plain": [
       "'processed_data_text.txt'"
      ]
     },
     "execution_count": 3,
     "metadata": {},
     "output_type": "execute_result"
    }
   ],
   "source": [
    "corpus"
   ]
  },
  {
   "cell_type": "code",
   "execution_count": 4,
   "id": "00bf3881",
   "metadata": {},
   "outputs": [
    {
     "name": "stdout",
     "output_type": "stream",
     "text": [
      "Training time: 22733.27 seconds\n"
     ]
    }
   ],
   "source": [
    "import time\n",
    "# Start the timer\n",
    "start_time = time.time()\n",
    "\n",
    "# Train the FastText model\n",
    "model = fasttext.train_unsupervised(corpus,\n",
    "                model='skipgram',\n",
    "                minn=2,\n",
    "                maxn=6,\n",
    "                dim=300,\n",
    "                ws=5,\n",
    "                minCount=5,\n",
    "                neg=5,\n",
    "                thread=4)\n",
    "\n",
    "# Stop the timer and calculate the training time\n",
    "end_time = time.time()\n",
    "training_time = end_time - start_time\n",
    "print(f\"Training time: {training_time:.2f} seconds\")\n",
    "\n",
    "# Save the model\n",
    "model.save_model(\"fasttext_model300.bin\")\n"
   ]
  },
  {
   "cell_type": "code",
   "execution_count": null,
   "id": "c491396a",
   "metadata": {},
   "outputs": [],
   "source": []
  },
  {
   "cell_type": "code",
   "execution_count": 4,
   "id": "dad10666",
   "metadata": {},
   "outputs": [
    {
     "ename": "NameError",
     "evalue": "name 'model' is not defined",
     "output_type": "error",
     "traceback": [
      "\u001b[1;31m---------------------------------------------------------------------------\u001b[0m",
      "\u001b[1;31mNameError\u001b[0m                                 Traceback (most recent call last)",
      "Cell \u001b[1;32mIn[4], line 1\u001b[0m\n\u001b[1;32m----> 1\u001b[0m \u001b[43mmodel\u001b[49m\u001b[38;5;241m.\u001b[39mget_nearest_neighbors(\u001b[38;5;124m'\u001b[39m\u001b[38;5;124mপ্রধান\u001b[39m\u001b[38;5;124m'\u001b[39m, k\u001b[38;5;241m=\u001b[39m\u001b[38;5;241m10\u001b[39m)\n",
      "\u001b[1;31mNameError\u001b[0m: name 'model' is not defined"
     ]
    }
   ],
   "source": [
    "model.get_nearest_neighbors('প্রধান', k=10)"
   ]
  },
  {
   "cell_type": "code",
   "execution_count": 3,
   "id": "09558146",
   "metadata": {},
   "outputs": [
    {
     "ename": "NameError",
     "evalue": "name 'model' is not defined",
     "output_type": "error",
     "traceback": [
      "\u001b[1;31m---------------------------------------------------------------------------\u001b[0m",
      "\u001b[1;31mNameError\u001b[0m                                 Traceback (most recent call last)",
      "Cell \u001b[1;32mIn[3], line 1\u001b[0m\n\u001b[1;32m----> 1\u001b[0m \u001b[43mmodel\u001b[49m\u001b[38;5;241m.\u001b[39mget_analogies(\u001b[38;5;124m\"\u001b[39m\u001b[38;5;124mরাজা\u001b[39m\u001b[38;5;124m\"\u001b[39m,\u001b[38;5;124m\"\u001b[39m\u001b[38;5;124mরানি\u001b[39m\u001b[38;5;124m\"\u001b[39m, \u001b[38;5;124m\"\u001b[39m\u001b[38;5;124mমেয়ে\u001b[39m\u001b[38;5;124m\"\u001b[39m, k\u001b[38;5;241m=\u001b[39m\u001b[38;5;241m5\u001b[39m)\n",
      "\u001b[1;31mNameError\u001b[0m: name 'model' is not defined"
     ]
    }
   ],
   "source": [
    "model.get_analogies(\"রাজা\",\"রানি\", \"মেয়ে\", k=5)"
   ]
  },
  {
   "cell_type": "code",
   "execution_count": 1,
   "id": "1ff2e81c",
   "metadata": {},
   "outputs": [
    {
     "ename": "NameError",
     "evalue": "name 'model' is not defined",
     "output_type": "error",
     "traceback": [
      "\u001b[1;31m---------------------------------------------------------------------------\u001b[0m",
      "\u001b[1;31mNameError\u001b[0m                                 Traceback (most recent call last)",
      "Cell \u001b[1;32mIn[1], line 1\u001b[0m\n\u001b[1;32m----> 1\u001b[0m \u001b[43mmodel\u001b[49m\u001b[38;5;241m.\u001b[39mget_analogies(\u001b[38;5;124m\"\u001b[39m\u001b[38;5;124mশিক্ষিকা\u001b[39m\u001b[38;5;124m\"\u001b[39m,\u001b[38;5;124m\"\u001b[39m\u001b[38;5;124mশিক্ষক\u001b[39m\u001b[38;5;124m\"\u001b[39m, \u001b[38;5;124m\"\u001b[39m\u001b[38;5;124mছেলে\u001b[39m\u001b[38;5;124m\"\u001b[39m, k\u001b[38;5;241m=\u001b[39m\u001b[38;5;241m5\u001b[39m)\n",
      "\u001b[1;31mNameError\u001b[0m: name 'model' is not defined"
     ]
    }
   ],
   "source": [
    "model.get_analogies(\"শিক্ষিকা\",\"শিক্ষক\", \"ছেলে\", k=5)"
   ]
  },
  {
   "cell_type": "code",
   "execution_count": 10,
   "id": "586d4a67",
   "metadata": {},
   "outputs": [
    {
     "data": {
      "text/plain": [
       "[(0.6067126989364624, 'ইসলামাবাদেও'),\n",
       " (0.606465220451355, 'ইসলামাবাদকে'),\n",
       " (0.5948108434677124, 'ইসলামাবাদও'),\n",
       " (0.5918161869049072, 'দিল্লিইসলামাবাদ'),\n",
       " (0.5848156213760376, 'ইসলামাবাদের'),\n",
       " (0.5810400247573853, 'ইসলামাবাদে'),\n",
       " (0.5807469487190247, 'পাকিস্তান'),\n",
       " (0.5646932125091553, 'ইসলামাবাদি'),\n",
       " (0.5549359917640686, 'পাকিস্তানকে'),\n",
       " (0.5508943200111389, 'পাকিস্তানও')]"
      ]
     },
     "execution_count": 10,
     "metadata": {},
     "output_type": "execute_result"
    }
   ],
   "source": [
    "model.get_analogies(\"বাংলাদেশ\",\"ঢাকা\", \"ইসলামাবাদ\", k=10)"
   ]
  },
  {
   "cell_type": "code",
   "execution_count": null,
   "id": "d7788809",
   "metadata": {},
   "outputs": [],
   "source": []
  }
 ],
 "metadata": {
  "kernelspec": {
   "display_name": "Python 3 (ipykernel)",
   "language": "python",
   "name": "python3"
  },
  "language_info": {
   "codemirror_mode": {
    "name": "ipython",
    "version": 3
   },
   "file_extension": ".py",
   "mimetype": "text/x-python",
   "name": "python",
   "nbconvert_exporter": "python",
   "pygments_lexer": "ipython3",
   "version": "3.9.16"
  }
 },
 "nbformat": 4,
 "nbformat_minor": 5
}
